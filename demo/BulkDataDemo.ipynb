{
 "cells": [
  {
   "cell_type": "markdown",
   "metadata": {},
   "source": [
    "# Example bulk data client interaction\n",
    "\n",
    "Implements a simple [FHIR bulk data client](http://wiki.hl7.org/index.php?title=201801_Bulk_Data) with authentication according to [SMART Authorization Guide protocol](http://docs.smarthealthit.org/authorization/backend-services/).\n",
    "\n",
    "### Config\n",
    "\n",
    "Start by reading required config parameters. We'll test against https://bulk-data.smarthealthit.org."
   ]
  },
  {
   "cell_type": "code",
   "execution_count": 1,
   "metadata": {},
   "outputs": [],
   "source": [
    "import yaml\n",
    "\n",
    "with open('config.yaml') as f:\n",
    "    config = yaml.load(f)"
   ]
  },
  {
   "cell_type": "markdown",
   "metadata": {},
   "source": [
    "### Setup\n",
    "\n",
    "Construct the client. First we request the remote server to prepare a dataset using ``client.provision()``"
   ]
  },
  {
   "cell_type": "code",
   "execution_count": 2,
   "metadata": {},
   "outputs": [],
   "source": [
    "from fhir.client import BulkDataClient\n",
    "\n",
    "client = BulkDataClient(**config)\n",
    "client.provision()"
   ]
  },
  {
   "cell_type": "markdown",
   "metadata": {},
   "source": [
    "We can check for successful provisioning of the list of data files using a property of the client"
   ]
  },
  {
   "cell_type": "code",
   "execution_count": 3,
   "metadata": {},
   "outputs": [
    {
     "data": {
      "text/plain": [
       "True"
      ]
     },
     "execution_count": 3,
     "metadata": {},
     "output_type": "execute_result"
    }
   ],
   "source": [
    "client.provisioned"
   ]
  },
  {
   "cell_type": "markdown",
   "metadata": {},
   "source": [
    "We could also provision data including [valid bulk data request parameters](https://github.com/smart-on-fhir/fhir-bulk-data-docs/blob/master/README.md#query-string-parameters)"
   ]
  },
  {
   "cell_type": "code",
   "execution_count": 4,
   "metadata": {},
   "outputs": [],
   "source": [
    "client.provision(_since='2010-01-28')"
   ]
  },
  {
   "cell_type": "markdown",
   "metadata": {},
   "source": [
    "### Consume data\n",
    "\n",
    "Once the dataset is provisioned we can iterate through the resources in the bulk data set. The client leaves most data  on the remote server and waits to retrieve subsequent files until the previous file in the manifest is consumed."
   ]
  },
  {
   "cell_type": "code",
   "execution_count": 5,
   "metadata": {},
   "outputs": [
    {
     "data": {
      "text/plain": [
       "{u'activity': [{u'detail': {u'code': {u'coding': [{u'code': u'226234005',\n",
       "       u'display': u'Healthy diet',\n",
       "       u'system': u'http://snomed.info/sct'}]},\n",
       "    u'status': u'in-progress'}},\n",
       "  {u'detail': {u'code': {u'coding': [{u'code': u'703993001',\n",
       "       u'display': u'Colonoscopy planned',\n",
       "       u'system': u'http://snomed.info/sct'}]},\n",
       "    u'status': u'in-progress'}},\n",
       "  {u'detail': {u'code': {u'coding': [{u'code': u'243072006',\n",
       "       u'display': u'Cancer education',\n",
       "       u'system': u'http://snomed.info/sct'}]},\n",
       "    u'status': u'in-progress'}}],\n",
       " u'addresses': [{u'reference': u'urn:uuid:d4f83046-5f89-4378-96f4-4e15766f9d97'}],\n",
       " u'category': [{u'coding': [{u'code': u'395082007',\n",
       "     u'display': u'Cancer care plan',\n",
       "     u'system': u'http://snomed.info/sct'}]}],\n",
       " u'context': {u'reference': u'urn:uuid:334228ee-2228-43c4-bea3-438e83d73017'},\n",
       " u'intent': u'order',\n",
       " u'period': {u'start': u'2015-11-09'},\n",
       " u'resourceType': u'CarePlan',\n",
       " u'status': u'active',\n",
       " u'subject': {u'reference': u'urn:uuid:0b92cd9e-f063-4b20-a78e-84ff889c6d6c'}}"
      ]
     },
     "execution_count": 5,
     "metadata": {},
     "output_type": "execute_result"
    }
   ],
   "source": [
    "data = client.iter_json()\n",
    "next(data)"
   ]
  },
  {
   "cell_type": "markdown",
   "metadata": {},
   "source": [
    "### Cleanup\n",
    "\n",
    "We should close the connection in the underlying session prior to releasing the client. Alternatively the client also functions as a context manager for simplicity."
   ]
  },
  {
   "cell_type": "code",
   "execution_count": 6,
   "metadata": {},
   "outputs": [
    {
     "name": "stdout",
     "output_type": "stream",
     "text": [
      "True\n"
     ]
    }
   ],
   "source": [
    "client.session.close()\n",
    "\n",
    "with BulkDataClient(**config) as client:\n",
    "    client.provision()\n",
    "    print client.provisioned"
   ]
  }
 ],
 "metadata": {
  "kernelspec": {
   "display_name": "Python 2",
   "language": "python",
   "name": "python2"
  },
  "language_info": {
   "codemirror_mode": {
    "name": "ipython",
    "version": 2
   },
   "file_extension": ".py",
   "mimetype": "text/x-python",
   "name": "python",
   "nbconvert_exporter": "python",
   "pygments_lexer": "ipython2",
   "version": "2.7.14"
  }
 },
 "nbformat": 4,
 "nbformat_minor": 2
}
